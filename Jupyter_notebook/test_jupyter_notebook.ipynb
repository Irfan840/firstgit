{
 "cells": [
  {
   "cell_type": "markdown",
   "id": "d7c7084f",
   "metadata": {},
   "source": [
    "# python ka chhila\n",
    "## baba aammar\n",
    "**01- My first program**"
   ]
  },
  {
   "cell_type": "code",
   "execution_count": 1,
   "id": "de71532f",
   "metadata": {},
   "outputs": [
    {
     "name": "stdout",
     "output_type": "stream",
     "text": [
      "5\n",
      "hello irfan\n"
     ]
    }
   ],
   "source": [
    "print(2+3)\n",
    "print(\"hello irfan\")"
   ]
  },
  {
   "cell_type": "markdown",
   "id": "5f4b1387",
   "metadata": {},
   "source": [
    "**02- operators**"
   ]
  },
  {
   "cell_type": "code",
   "execution_count": 2,
   "id": "b42fe726",
   "metadata": {},
   "outputs": [
    {
     "name": "stdout",
     "output_type": "stream",
     "text": [
      "6\n",
      "1\n",
      "16\n",
      "4.0\n",
      "4\n",
      "16\n",
      "29.0\n"
     ]
    }
   ],
   "source": [
    "print(2+4)\n",
    "print(4-3)\n",
    "print(4*4)\n",
    "print(8/2)\n",
    "print(8//2)\n",
    "print(4**2)\n",
    "print(4**2/2*4+2-5)"
   ]
  },
  {
   "cell_type": "markdown",
   "id": "328ed3e9",
   "metadata": {},
   "source": [
    "**03-Strings**"
   ]
  },
  {
   "cell_type": "code",
   "execution_count": 3,
   "id": "6c362d7c",
   "metadata": {},
   "outputs": [
    {
     "name": "stdout",
     "output_type": "stream",
     "text": [
      "hello irfan\n",
      "we are learning python with irfan\n"
     ]
    }
   ],
   "source": [
    "print(\"hello irfan\")\n",
    "print(\"we are learning python with irfan\")"
   ]
  },
  {
   "cell_type": "markdown",
   "id": "5be5dee5",
   "metadata": {},
   "source": [
    "**04-Comments** Just put # to comments in and vice versa"
   ]
  },
  {
   "cell_type": "code",
   "execution_count": 4,
   "id": "d21417f1",
   "metadata": {},
   "outputs": [
    {
     "name": "stdout",
     "output_type": "stream",
     "text": [
      "how are you?\n",
      "we are learning pyhton with irfan\n",
      "12\n"
     ]
    }
   ],
   "source": [
    "print(\"how are you?\")\n",
    "print(\"we are learning pyhton with irfan\")\n",
    "print(6+6)"
   ]
  },
  {
   "cell_type": "markdown",
   "id": "5d315692",
   "metadata": {},
   "source": [
    "**05-Variables**"
   ]
  },
  {
   "cell_type": "code",
   "execution_count": 5,
   "id": "6389e8bd",
   "metadata": {},
   "outputs": [
    {
     "name": "stdout",
     "output_type": "stream",
     "text": [
      "5\n",
      "we are learning python with irfan\n",
      "15\n",
      "<class 'int'>\n",
      "<class 'str'>\n",
      "8\n",
      "<class 'int'>\n"
     ]
    }
   ],
   "source": [
    "# variable: objects containing specific values\n",
    "x = 5 # numeric or integer variable\n",
    "print(x) \n",
    "y = \"we are learning python with irfan\" #string variable\n",
    "print(y)\n",
    "x = x+10 #or x =15\n",
    "print(x)\n",
    "#types or class of variables\n",
    "type(x)\n",
    "print(type(x))\n",
    "print(type(y))\n",
    "\n",
    "fruit_basket= 8\n",
    "\n",
    "print(fruit_basket)\n",
    "print(type(fruit_basket))"
   ]
  },
  {
   "cell_type": "markdown",
   "id": "3d5b99de",
   "metadata": {},
   "source": [
    "**06-input variables**"
   ]
  },
  {
   "cell_type": "code",
   "execution_count": 6,
   "id": "aa3a0906",
   "metadata": {},
   "outputs": [
    {
     "name": "stdout",
     "output_type": "stream",
     "text": [
      "what is your name? irfan\n",
      "how old are you? 25\n",
      "hello irfan you are still young\n"
     ]
    }
   ],
   "source": [
    "# fruit_basket= \"Mangoes\"\n",
    "# print(fruit_basket)\n",
    "#input function simple\n",
    "# fruit_basket= input(\"what is your favourite fruit? \")\n",
    "# print(fruit_basket)\n",
    "#input function 2nd stage\n",
    "# name= input(\"what is your name? \")\n",
    "# greetings=\"hello\"\n",
    "# print(greetings, name)\n",
    "# another way of input function stage 2\n",
    "\n",
    "# name= input(\"what is your name? \")\n",
    "# print(\"hello\", name)\n",
    "\n",
    "# 3rd stage input function\n",
    "name= input(\"what is your name? \")\n",
    "age= input(\"how old are you? \")\n",
    "greetings= \"hello\"\n",
    "print(greetings, name, \"you are still young\")"
   ]
  },
  {
   "cell_type": "markdown",
   "id": "94adb42b",
   "metadata": {},
   "source": [
    "**07-Conditional logics**"
   ]
  },
  {
   "cell_type": "code",
   "execution_count": 7,
   "id": "4d1b453b",
   "metadata": {},
   "outputs": [
    {
     "name": "stdout",
     "output_type": "stream",
     "text": [
      "how old is irfan ?25\n",
      "<class 'int'>\n",
      "False\n"
     ]
    }
   ],
   "source": [
    "#logical operators are either \"true or false\" or \"yes or no\" \"0 or 1\"\n",
    "# equal to   ==\n",
    "#not equal to !=\n",
    "#less than  <\n",
    "#greater than >\n",
    "#less than and equal to <=\n",
    "#greater than equal to >=\n",
    "# is 4 equal to 4?\n",
    "# print(4==4)\n",
    "# print(4!=4)\n",
    "\n",
    "#application for logical operators\n",
    "# irfan_age=4\n",
    "# age_at_school=5\n",
    "# print(irfan_age==age_at_school)\n",
    "\n",
    "#input operators and logical operator\n",
    "age_at_school=5\n",
    "irfan_age=input(\"how old is irfan ?\")\n",
    "irfan_age=int(irfan_age)\n",
    "print(type(irfan_age))\n",
    "print(irfan_age==age_at_school)"
   ]
  },
  {
   "cell_type": "markdown",
   "id": "b16072fb",
   "metadata": {},
   "source": [
    "**08-Type conversion**"
   ]
  },
  {
   "cell_type": "code",
   "execution_count": 8,
   "id": "cc521825",
   "metadata": {},
   "outputs": [
    {
     "name": "stdout",
     "output_type": "stream",
     "text": [
      "what is your age? 5\n",
      "5 <class 'float'>\n"
     ]
    }
   ],
   "source": [
    "# x=10\n",
    "# y=10.20\n",
    "# z=\"hello\"\n",
    "\n",
    "# #implicit type conversion\n",
    "# x=x+y\n",
    "# print(x,\"type of x is:\",type(x))\n",
    "\n",
    "#explicit type of conversion\n",
    "age=input(\"what is your age? \")\n",
    "#age=int(age)\n",
    "#print(type(int(age)))\n",
    "print(age,type(float(age)))"
   ]
  },
  {
   "cell_type": "markdown",
   "id": "731eefdb",
   "metadata": {},
   "source": [
    "**09-if,esla and elif statement**"
   ]
  },
  {
   "cell_type": "code",
   "execution_count": 9,
   "id": "909cc352",
   "metadata": {},
   "outputs": [
    {
     "name": "stdout",
     "output_type": "stream",
     "text": [
      "you should care of him\n"
     ]
    }
   ],
   "source": [
    "# req_age_at_school=4\n",
    "# irfan_ag=5\n",
    "# # question: can irfan go to school\n",
    "# if irfan_ag==req_age_at_school:\n",
    "#     print(\"irfan can join the school\")\n",
    "# req_age_at_school=5\n",
    "# irfan_ag=5\n",
    "# # question: can irfan go to school\n",
    "# if irfan_ag==req_age_at_school:\n",
    "#     print(\"irfan can join the school\")  \n",
    "# req_age_at_school=4\n",
    "# irfan_ag=5\n",
    "# # question: can irfan go to school\n",
    "# if irfan_ag==req_age_at_school:\n",
    "#     print(\"irfan can join the school\")\n",
    "# else:\n",
    "#     print(\"irfan can not go to school\")    \n",
    "\n",
    "# req_age_at_school=4\n",
    "# irfan_age=5\n",
    "# # question: can irfan go to school\n",
    "# if irfan_age==req_age_at_school:\n",
    "#     print(\"irfan can join the school\")\n",
    "# elif irfan_age > req_age_at_school:\n",
    "#     print(\"irfan should go to higher school\")\n",
    "# else:\n",
    "#     print(\"irfan can not go to school\")\n",
    "req_age_at_school=4\n",
    "irfan_age=2\n",
    "# question: can irfan go to school\n",
    "if irfan_age==req_age_at_school:\n",
    "    print(\"irfan can join the school\")\n",
    "elif irfan_age > req_age_at_school:\n",
    "    print(\"irfan should go to higher school\")\n",
    "elif irfan_age <= 2:\n",
    "    print(\"you should care of him\")\n",
    "\n",
    "else:\n",
    "    print(\"irfan can not go to school\")\n"
   ]
  },
  {
   "cell_type": "markdown",
   "id": "13d95ba3",
   "metadata": {},
   "source": [
    "**10-Functions**"
   ]
  },
  {
   "cell_type": "code",
   "execution_count": 10,
   "id": "5472b974",
   "metadata": {},
   "outputs": [
    {
     "name": "stdout",
     "output_type": "stream",
     "text": [
      "38\n"
     ]
    }
   ],
   "source": [
    "\n",
    "# defining a function\n",
    "# 1\n",
    "# def print_codanics():\n",
    "#     print(\"we are learning with aammar\")\n",
    "#     print(\"we are learning with aammar\")\n",
    "#     print(\"we are learning with aammar\")\n",
    "\n",
    "# print_codanics()\n",
    "\n",
    "# 2\n",
    "# def print_codanics():\n",
    "#     text = \"we are learning with aammae\"\n",
    "#     print(text)\n",
    "#     print(text)\n",
    "#     print(text)\n",
    "\n",
    "# print_codanics()\n",
    "\n",
    "# 3\n",
    "# def print_codanics(text):\n",
    "#     print(text)\n",
    "#     print(text)\n",
    "#     print(text)\n",
    "\n",
    "# print_codanics(\"we are learning python with aammar\")\n",
    "\n",
    "# 4\n",
    "# def school_calculator(age, text):\n",
    "#     if age==5:\n",
    "#         print(\"irfan can join the school\")\n",
    "#     elif age>5:\n",
    "#         print(\"irfan should go to school\")\n",
    "#     else:\n",
    "#         print(\"irfan is still baby\")\n",
    "# school_calculator(15, \"irfan\")   \n",
    "\n",
    "# def school_calculator(age):\n",
    "#     if age==5:\n",
    "#         print(\"irfan can join the school\")\n",
    "#     elif age>5:\n",
    "#         print(\"irfan should go to school\")\n",
    "#     else:\n",
    "#         print(\"irfan is still baby\")\n",
    "# school_calculator(2) \n",
    "\n",
    "# 5\n",
    "# definig a future function\n",
    "def future_age(age):\n",
    "    new_age= age+20\n",
    "    return new_age\n",
    "    print(new_age)\n",
    "\n",
    "future_predicted_age= future_age(18)\n",
    "print(future_predicted_age)    \n"
   ]
  },
  {
   "cell_type": "markdown",
   "id": "c3969cf4",
   "metadata": {},
   "source": [
    "**11-Loops**"
   ]
  },
  {
   "cell_type": "code",
   "execution_count": 11,
   "id": "088cebb0",
   "metadata": {},
   "outputs": [
    {
     "name": "stdout",
     "output_type": "stream",
     "text": [
      "mon\n",
      "tue\n",
      "wed\n",
      "thu\n",
      "sat\n",
      "sun\n"
     ]
    }
   ],
   "source": [
    "# while and for loops\n",
    "\n",
    "# while loops\n",
    "# x = 0\n",
    "# while (x<5):\n",
    "#     print(x)\n",
    "#     x=x+1\n",
    "\n",
    "# For loops\n",
    "# for x in range(4,10):\n",
    "#     print(x)    \n",
    "\n",
    "# array\n",
    "# days = [\"mon\", \"tue\", \"wed\", \"thu\", \"fri\", \"sat\", \"sun\"]\n",
    "# for d in days:\n",
    "#     print(d)\n",
    "days = [\"mon\", \"tue\", \"wed\", \"thu\", \"fri\", \"sat\", \"sun\"]\n",
    "for d in days:\n",
    "    #if (d==\"fri\"):break # loop stop\n",
    "    if (d==\"fri\"): continue\n",
    "    print(d)"
   ]
  },
  {
   "cell_type": "markdown",
   "id": "49c219d3",
   "metadata": {},
   "source": [
    "**12-Import libraries**"
   ]
  },
  {
   "cell_type": "code",
   "execution_count": 12,
   "id": "a4ab7ac1",
   "metadata": {},
   "outputs": [
    {
     "name": "stdout",
     "output_type": "stream",
     "text": [
      "the value of pi is  3.141592653589793\n",
      "300\n"
     ]
    }
   ],
   "source": [
    "# if you want to print the value of pi\n",
    "import math\n",
    "print(\"the value of pi is \", math.pi)\n",
    "\n",
    "import statistics\n",
    "x=[150,250,350,450]\n",
    "print(statistics.mean(x))"
   ]
  },
  {
   "cell_type": "markdown",
   "id": "6176a71b",
   "metadata": {},
   "source": [
    "**13-Trouble shooting**"
   ]
  },
  {
   "cell_type": "code",
   "execution_count": 13,
   "id": "2805234f",
   "metadata": {},
   "outputs": [
    {
     "name": "stdout",
     "output_type": "stream",
     "text": [
      "hello aammar\n"
     ]
    }
   ],
   "source": [
    "# print(we are learning with aammar) # syntex error\n",
    "# print(25/0)  #runtime error, any maths errror known as runtime error\n",
    "\n",
    "name = \"aammar\"\n",
    "#print(\"hello, name\") # symentic error\n",
    "print(\"hello\", name)\n"
   ]
  },
  {
   "cell_type": "code",
   "execution_count": null,
   "id": "b50a4df3",
   "metadata": {},
   "outputs": [],
   "source": []
  }
 ],
 "metadata": {
  "kernelspec": {
   "display_name": "Python 3",
   "language": "python",
   "name": "python3"
  },
  "language_info": {
   "codemirror_mode": {
    "name": "ipython",
    "version": 3
   },
   "file_extension": ".py",
   "mimetype": "text/x-python",
   "name": "python",
   "nbconvert_exporter": "python",
   "pygments_lexer": "ipython3",
   "version": "3.11.0 (main, Oct 24 2022, 18:26:48) [MSC v.1933 64 bit (AMD64)]"
  },
  "vscode": {
   "interpreter": {
    "hash": "1d9c243eb5655431c828cc5b0ca8458a33a9eb524918b084426c59a3436b17e3"
   }
  }
 },
 "nbformat": 4,
 "nbformat_minor": 5
}
